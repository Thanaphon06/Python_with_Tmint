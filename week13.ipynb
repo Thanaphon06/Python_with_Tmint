{
 "cells": [
  {
   "cell_type": "code",
   "execution_count": 5,
   "metadata": {},
   "outputs": [
    {
     "name": "stdout",
     "output_type": "stream",
     "text": [
      "that too much i cant take it\n"
     ]
    }
   ],
   "source": [
    "num = int(input(\"INPU SOME NUMBER\"))\n",
    "\n",
    "if num < 100:\n",
    "    if num % 7 == 0:\n",
    "        print(num)\n",
    "\n",
    "elif num >= 100:\n",
    "    print(\"that too much i cant take it\")\n",
    "else:\n",
    "    print(\"na man it cant / 7\")"
   ]
  },
  {
   "cell_type": "code",
   "execution_count": 10,
   "metadata": {},
   "outputs": [
    {
     "name": "stdout",
     "output_type": "stream",
     "text": [
      "เป็นจำนวนเฉพาะนะสาว\n"
     ]
    }
   ],
   "source": [
    "num = int(input(\"give me some number\"))\n",
    "\n",
    "if num == 2 or num == 3 or num == 5 or num == 7 or num == 9:\n",
    "    print(\"เป็นจำนวนเฉพาะนะสาว\")\n",
    "\n",
    "elif num3 % 2 == 0 or num % 3 == 0 or num % 5 == 0 or num % 7 == 0 or num % 9 == 0:\n",
    "    print(\"บ่จ๋ายยย\")\n",
    "else:\n",
    "    print(\"เป็นจำนวนเฉพาะนะสาว\")\n",
    "    "
   ]
  },
  {
   "cell_type": "code",
   "execution_count": 20,
   "metadata": {},
   "outputs": [
    {
     "name": "stdout",
     "output_type": "stream",
     "text": [
      "3090.0\n"
     ]
    }
   ],
   "source": [
    "num = int(input(\"money\"))\n",
    "\n",
    "if num <= 5000:\n",
    "    permis = num * 0.03\n",
    "    total = num + permis\n",
    "\n",
    "print(total)\n",
    "\n",
    "\n"
   ]
  },
  {
   "cell_type": "code",
   "execution_count": null,
   "metadata": {},
   "outputs": [],
   "source": [
    "num = int(input(\"money\"))\n",
    "\n"
   ]
  }
 ],
 "metadata": {
  "kernelspec": {
   "display_name": "Python 3",
   "language": "python",
   "name": "python3"
  },
  "language_info": {
   "codemirror_mode": {
    "name": "ipython",
    "version": 3
   },
   "file_extension": ".py",
   "mimetype": "text/x-python",
   "name": "python",
   "nbconvert_exporter": "python",
   "pygments_lexer": "ipython3",
   "version": "3.12.1"
  }
 },
 "nbformat": 4,
 "nbformat_minor": 2
}
