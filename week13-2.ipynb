{
 "cells": [
  {
   "cell_type": "code",
   "execution_count": 11,
   "metadata": {},
   "outputs": [
    {
     "name": "stdout",
     "output_type": "stream",
     "text": [
      "ยอดขาย  40000\n",
      "ค่าคอมที่ได้ 4400\n",
      "โบนัสพิเศษ 800\n",
      "ยอดรวมทั้งหมด 45200.0\n"
     ]
    }
   ],
   "source": [
    "num = int(input(\"money\"))\n",
    "\n",
    "if num <= 5000:\n",
    "    permis = num * 0.03\n",
    "    total = num + permis\n",
    "elif num <= 10000:\n",
    "    p = 200\n",
    "    permis = num * 0.05\n",
    "    total = num + (permis + 200)\n",
    "    \n",
    "elif num <= 20000:\n",
    "    p = 400\n",
    "    permis = num * 0.07\n",
    "    total = num + (permis + 400)\n",
    "elif num <= 25000:\n",
    "    p = 600\n",
    "    permis = num * 0.09\n",
    "    total = num + (permis + 600)\n",
    "elif num > 25000:\n",
    "    p = 800\n",
    "    permis = num * 0.11\n",
    "    total = num + (permis + 800)\n",
    "else:\n",
    "    print(\"โปรดลองใหม่อีกครั้ง\")\n",
    "print(\"ยอดขาย \" , num)\n",
    "print(\"ค่าคอมที่ได้\" , round(permis))\n",
    "print(\"โบนัสพิเศษ\" , p)\n",
    "print(\"ยอดรวมทั้งหมด\",total)\n",
    "\n",
    "\n"
   ]
  },
  {
   "cell_type": "code",
   "execution_count": 13,
   "metadata": {},
   "outputs": [
    {
     "name": "stdout",
     "output_type": "stream",
     "text": [
      "ผลรวมของเลขแต่ละหลัก: 15\n"
     ]
    }
   ],
   "source": [
    "# รับตัวเลขจากผู้ใช้\n",
    "input_number = int(input(\"ป้อนตัวเลข: \"))\n",
    "\n",
    "# แปลงตัวเลขเป็นบวกเต็ม (absolute) เพื่อให้ไม่มีเลขลบ\n",
    "abs_input_number = abs(input_number)\n",
    "\n",
    "# คำนวณผลรวมของเลขแต่ละหลัก\n",
    "total = 0\n",
    "while abs_input_number > 0:\n",
    "    total += abs_input_number % 10  # นำเลขหลักหน่วยมาบวกกับผลรวม\n",
    "    abs_input_number //= 10  # ลบเลขหลักหน่วยออก\n",
    "\n",
    "# แสดงผลรวม\n",
    "print(\"ผลรวมของเลขแต่ละหลัก:\", total)\n"
   ]
  },
  {
   "cell_type": "code",
   "execution_count": null,
   "metadata": {},
   "outputs": [],
   "source": []
  }
 ],
 "metadata": {
  "kernelspec": {
   "display_name": "Python 3",
   "language": "python",
   "name": "python3"
  },
  "language_info": {
   "codemirror_mode": {
    "name": "ipython",
    "version": 3
   },
   "file_extension": ".py",
   "mimetype": "text/x-python",
   "name": "python",
   "nbconvert_exporter": "python",
   "pygments_lexer": "ipython3",
   "version": "3.12.1"
  }
 },
 "nbformat": 4,
 "nbformat_minor": 2
}
